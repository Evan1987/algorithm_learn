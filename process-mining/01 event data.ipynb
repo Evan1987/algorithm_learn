{
 "cells": [
  {
   "cell_type": "code",
   "execution_count": 1,
   "id": "20a3e86d-7420-4346-8f46-f2422f0a96d1",
   "metadata": {
    "tags": []
   },
   "outputs": [],
   "source": [
    "import os\n",
    "import pandas as pd\n",
    "import pm4py\n",
    "from collections import Counter"
   ]
  },
  {
   "cell_type": "code",
   "execution_count": 13,
   "id": "63a27832-7f59-4b5a-92ec-716ca0cee019",
   "metadata": {
    "tags": []
   },
   "outputs": [
    {
     "data": {
      "text/html": [
       "<div>\n",
       "<style scoped>\n",
       "    .dataframe tbody tr th:only-of-type {\n",
       "        vertical-align: middle;\n",
       "    }\n",
       "\n",
       "    .dataframe tbody tr th {\n",
       "        vertical-align: top;\n",
       "    }\n",
       "\n",
       "    .dataframe thead th {\n",
       "        text-align: right;\n",
       "    }\n",
       "</style>\n",
       "<table border=\"1\" class=\"dataframe\">\n",
       "  <thead>\n",
       "    <tr style=\"text-align: right;\">\n",
       "      <th></th>\n",
       "      <th>case_id</th>\n",
       "      <th>activity</th>\n",
       "      <th>timestamp</th>\n",
       "      <th>costs</th>\n",
       "      <th>org:resource</th>\n",
       "    </tr>\n",
       "  </thead>\n",
       "  <tbody>\n",
       "    <tr>\n",
       "      <th>0</th>\n",
       "      <td>3</td>\n",
       "      <td>register request</td>\n",
       "      <td>2010-12-30 14:32:00+01:00</td>\n",
       "      <td>50</td>\n",
       "      <td>Pete</td>\n",
       "    </tr>\n",
       "    <tr>\n",
       "      <th>1</th>\n",
       "      <td>3</td>\n",
       "      <td>examine casually</td>\n",
       "      <td>2010-12-30 15:06:00+01:00</td>\n",
       "      <td>400</td>\n",
       "      <td>Mike</td>\n",
       "    </tr>\n",
       "    <tr>\n",
       "      <th>2</th>\n",
       "      <td>3</td>\n",
       "      <td>check ticket</td>\n",
       "      <td>2010-12-30 16:34:00+01:00</td>\n",
       "      <td>100</td>\n",
       "      <td>Ellen</td>\n",
       "    </tr>\n",
       "    <tr>\n",
       "      <th>3</th>\n",
       "      <td>3</td>\n",
       "      <td>decide</td>\n",
       "      <td>2011-01-06 09:18:00+01:00</td>\n",
       "      <td>200</td>\n",
       "      <td>Sara</td>\n",
       "    </tr>\n",
       "    <tr>\n",
       "      <th>4</th>\n",
       "      <td>3</td>\n",
       "      <td>reinitiate request</td>\n",
       "      <td>2011-01-06 12:18:00+01:00</td>\n",
       "      <td>200</td>\n",
       "      <td>Sara</td>\n",
       "    </tr>\n",
       "  </tbody>\n",
       "</table>\n",
       "</div>"
      ],
      "text/plain": [
       "   case_id            activity                  timestamp  costs org:resource\n",
       "0        3    register request  2010-12-30 14:32:00+01:00     50         Pete\n",
       "1        3    examine casually  2010-12-30 15:06:00+01:00    400         Mike\n",
       "2        3        check ticket  2010-12-30 16:34:00+01:00    100        Ellen\n",
       "3        3              decide  2011-01-06 09:18:00+01:00    200         Sara\n",
       "4        3  reinitiate request  2011-01-06 12:18:00+01:00    200         Sara"
      ]
     },
     "execution_count": 13,
     "metadata": {},
     "output_type": "execute_result"
    }
   ],
   "source": [
    "df = pd.read_csv(\"data/running_example.csv\", sep=\";\")\n",
    "df[:5]"
   ]
  },
  {
   "cell_type": "code",
   "execution_count": 18,
   "id": "cc6f2a3e-8688-4ff3-afbe-2090b18ae2b7",
   "metadata": {
    "tags": []
   },
   "outputs": [
    {
     "data": {
      "text/plain": [
       "6"
      ]
     },
     "execution_count": 18,
     "metadata": {},
     "output_type": "execute_result"
    }
   ],
   "source": [
    "df[\"case_id\"].nunique()"
   ]
  },
  {
   "cell_type": "code",
   "execution_count": 14,
   "id": "783148b4-a19b-4ade-a236-9c03db80c0d4",
   "metadata": {
    "tags": []
   },
   "outputs": [
    {
     "data": {
      "text/plain": [
       "'2010-12-30 14:32:00+01:00'"
      ]
     },
     "execution_count": 14,
     "metadata": {},
     "output_type": "execute_result"
    }
   ],
   "source": [
    "df[\"timestamp\"][0]"
   ]
  },
  {
   "cell_type": "code",
   "execution_count": 15,
   "id": "41d6e3e6-0dd4-40fe-b855-3450e9dac68a",
   "metadata": {
    "tags": []
   },
   "outputs": [
    {
     "data": {
      "text/html": [
       "<div>\n",
       "<style scoped>\n",
       "    .dataframe tbody tr th:only-of-type {\n",
       "        vertical-align: middle;\n",
       "    }\n",
       "\n",
       "    .dataframe tbody tr th {\n",
       "        vertical-align: top;\n",
       "    }\n",
       "\n",
       "    .dataframe thead th {\n",
       "        text-align: right;\n",
       "    }\n",
       "</style>\n",
       "<table border=\"1\" class=\"dataframe\">\n",
       "  <thead>\n",
       "    <tr style=\"text-align: right;\">\n",
       "      <th></th>\n",
       "      <th>case_id</th>\n",
       "      <th>activity</th>\n",
       "      <th>timestamp</th>\n",
       "      <th>costs</th>\n",
       "      <th>org:resource</th>\n",
       "      <th>case:concept:name</th>\n",
       "      <th>concept:name</th>\n",
       "      <th>time:timestamp</th>\n",
       "      <th>@@index</th>\n",
       "      <th>@@case_index</th>\n",
       "    </tr>\n",
       "  </thead>\n",
       "  <tbody>\n",
       "    <tr>\n",
       "      <th>0</th>\n",
       "      <td>1</td>\n",
       "      <td>register request</td>\n",
       "      <td>2010-12-30 10:02:00+00:00</td>\n",
       "      <td>50</td>\n",
       "      <td>Pete</td>\n",
       "      <td>1</td>\n",
       "      <td>register request</td>\n",
       "      <td>2010-12-30 10:02:00+00:00</td>\n",
       "      <td>0</td>\n",
       "      <td>0</td>\n",
       "    </tr>\n",
       "    <tr>\n",
       "      <th>1</th>\n",
       "      <td>1</td>\n",
       "      <td>examine thoroughly</td>\n",
       "      <td>2010-12-31 09:06:00+00:00</td>\n",
       "      <td>400</td>\n",
       "      <td>Sue</td>\n",
       "      <td>1</td>\n",
       "      <td>examine thoroughly</td>\n",
       "      <td>2010-12-31 09:06:00+00:00</td>\n",
       "      <td>1</td>\n",
       "      <td>0</td>\n",
       "    </tr>\n",
       "    <tr>\n",
       "      <th>2</th>\n",
       "      <td>1</td>\n",
       "      <td>check ticket</td>\n",
       "      <td>2011-01-05 14:12:00+00:00</td>\n",
       "      <td>100</td>\n",
       "      <td>Mike</td>\n",
       "      <td>1</td>\n",
       "      <td>check ticket</td>\n",
       "      <td>2011-01-05 14:12:00+00:00</td>\n",
       "      <td>2</td>\n",
       "      <td>0</td>\n",
       "    </tr>\n",
       "    <tr>\n",
       "      <th>3</th>\n",
       "      <td>1</td>\n",
       "      <td>decide</td>\n",
       "      <td>2011-01-06 10:18:00+00:00</td>\n",
       "      <td>200</td>\n",
       "      <td>Sara</td>\n",
       "      <td>1</td>\n",
       "      <td>decide</td>\n",
       "      <td>2011-01-06 10:18:00+00:00</td>\n",
       "      <td>3</td>\n",
       "      <td>0</td>\n",
       "    </tr>\n",
       "    <tr>\n",
       "      <th>4</th>\n",
       "      <td>1</td>\n",
       "      <td>reject request</td>\n",
       "      <td>2011-01-07 13:24:00+00:00</td>\n",
       "      <td>200</td>\n",
       "      <td>Pete</td>\n",
       "      <td>1</td>\n",
       "      <td>reject request</td>\n",
       "      <td>2011-01-07 13:24:00+00:00</td>\n",
       "      <td>4</td>\n",
       "      <td>0</td>\n",
       "    </tr>\n",
       "  </tbody>\n",
       "</table>\n",
       "</div>"
      ],
      "text/plain": [
       "   case_id            activity                 timestamp  costs org:resource  \\\n",
       "0        1    register request 2010-12-30 10:02:00+00:00     50         Pete   \n",
       "1        1  examine thoroughly 2010-12-31 09:06:00+00:00    400          Sue   \n",
       "2        1        check ticket 2011-01-05 14:12:00+00:00    100         Mike   \n",
       "3        1              decide 2011-01-06 10:18:00+00:00    200         Sara   \n",
       "4        1      reject request 2011-01-07 13:24:00+00:00    200         Pete   \n",
       "\n",
       "  case:concept:name        concept:name            time:timestamp  @@index  \\\n",
       "0                 1    register request 2010-12-30 10:02:00+00:00        0   \n",
       "1                 1  examine thoroughly 2010-12-31 09:06:00+00:00        1   \n",
       "2                 1        check ticket 2011-01-05 14:12:00+00:00        2   \n",
       "3                 1              decide 2011-01-06 10:18:00+00:00        3   \n",
       "4                 1      reject request 2011-01-07 13:24:00+00:00        4   \n",
       "\n",
       "   @@case_index  \n",
       "0             0  \n",
       "1             0  \n",
       "2             0  \n",
       "3             0  \n",
       "4             0  "
      ]
     },
     "execution_count": 15,
     "metadata": {},
     "output_type": "execute_result"
    }
   ],
   "source": [
    "# also influence original df\n",
    "log: pd.DataFrame = pm4py.format_dataframe(df, case_id=\"case_id\", activity_key=\"activity\", timestamp_key=\"timestamp\")\n",
    "log[:5]"
   ]
  },
  {
   "cell_type": "code",
   "execution_count": 16,
   "id": "9c4a3d9b-e527-4552-aee9-ed091591deed",
   "metadata": {
    "tags": []
   },
   "outputs": [
    {
     "data": {
      "text/plain": [
       "Timestamp('2010-12-30 10:02:00+0000', tz='UTC')"
      ]
     },
     "execution_count": 16,
     "metadata": {},
     "output_type": "execute_result"
    }
   ],
   "source": [
    "log[\"time:timestamp\"][0]"
   ]
  },
  {
   "cell_type": "code",
   "execution_count": 17,
   "id": "351203fd-68da-4d04-8a5d-7dc6626c94ec",
   "metadata": {
    "tags": []
   },
   "outputs": [
    {
     "data": {
      "text/plain": [
       "{'register request': 6}"
      ]
     },
     "execution_count": 17,
     "metadata": {},
     "output_type": "execute_result"
    }
   ],
   "source": [
    "pm4py.get_start_activities(log)  # eq. dict(Counter(log.groupby(\"case_id\")[\"activity\"].first().tolist()))"
   ]
  },
  {
   "cell_type": "code",
   "execution_count": 19,
   "id": "ba3f88bf-daeb-4238-8f7e-cdcfd503c4b6",
   "metadata": {
    "tags": []
   },
   "outputs": [
    {
     "data": {
      "text/plain": [
       "{'reject request': 3, 'pay compensation': 3}"
      ]
     },
     "execution_count": 19,
     "metadata": {},
     "output_type": "execute_result"
    }
   ],
   "source": [
    "pm4py.get_end_activities(log)  # eq. dict(Counter(log.groupby(\"case_id\")[\"activity\"].last().tolist()))"
   ]
  },
  {
   "cell_type": "code",
   "execution_count": 2,
   "id": "3a4b6458-c642-4add-a6e5-bd863a9efdf4",
   "metadata": {
    "tags": []
   },
   "outputs": [
    {
     "name": "stderr",
     "output_type": "stream",
     "text": [
      "/Users/zhaochengming/opt/miniconda3/envs/py310/lib/python3.10/site-packages/pm4py/util/dt_parsing/parser.py:82: UserWarning: ISO8601 strings are not fully supported with strpfromiso for Python versions below 3.11\n",
      "  warnings.warn(\n"
     ]
    },
    {
     "data": {
      "application/vnd.jupyter.widget-view+json": {
       "model_id": "b5388edb32c7453d9fdca483e1e24131",
       "version_major": 2,
       "version_minor": 0
      },
      "text/plain": [
       "parsing log, completed traces ::   0%|          | 0/6 [00:00<?, ?it/s]"
      ]
     },
     "metadata": {},
     "output_type": "display_data"
    }
   ],
   "source": [
    "log_xes = pm4py.read_xes(\"data/running_example.xes\", return_legacy_log_object=True)"
   ]
  },
  {
   "cell_type": "code",
   "execution_count": 3,
   "id": "8b0a6e75-1eb0-4cd7-a251-7f0257337aa5",
   "metadata": {
    "tags": []
   },
   "outputs": [
    {
     "data": {
      "text/plain": [
       "pm4py.objects.log.obj.EventLog"
      ]
     },
     "execution_count": 3,
     "metadata": {},
     "output_type": "execute_result"
    }
   ],
   "source": [
    "type(log_xes)"
   ]
  },
  {
   "cell_type": "code",
   "execution_count": 4,
   "id": "0066725a-961f-4fa3-a2c8-6c26f973f884",
   "metadata": {
    "tags": []
   },
   "outputs": [
    {
     "data": {
      "text/html": [
       "<div>\n",
       "<style scoped>\n",
       "    .dataframe tbody tr th:only-of-type {\n",
       "        vertical-align: middle;\n",
       "    }\n",
       "\n",
       "    .dataframe tbody tr th {\n",
       "        vertical-align: top;\n",
       "    }\n",
       "\n",
       "    .dataframe thead th {\n",
       "        text-align: right;\n",
       "    }\n",
       "</style>\n",
       "<table border=\"1\" class=\"dataframe\">\n",
       "  <thead>\n",
       "    <tr style=\"text-align: right;\">\n",
       "      <th></th>\n",
       "      <th>concept:name</th>\n",
       "      <th>org:resource</th>\n",
       "      <th>time:timestamp</th>\n",
       "      <th>Activity</th>\n",
       "      <th>Resource</th>\n",
       "      <th>Costs</th>\n",
       "      <th>case:concept:name</th>\n",
       "    </tr>\n",
       "  </thead>\n",
       "  <tbody>\n",
       "    <tr>\n",
       "      <th>0</th>\n",
       "      <td>register request</td>\n",
       "      <td>Pete</td>\n",
       "      <td>2010-12-30 14:32:00+00:00</td>\n",
       "      <td>register request</td>\n",
       "      <td>Pete</td>\n",
       "      <td>50</td>\n",
       "      <td>3</td>\n",
       "    </tr>\n",
       "    <tr>\n",
       "      <th>1</th>\n",
       "      <td>examine casually</td>\n",
       "      <td>Mike</td>\n",
       "      <td>2010-12-30 15:06:00+00:00</td>\n",
       "      <td>examine casually</td>\n",
       "      <td>Mike</td>\n",
       "      <td>400</td>\n",
       "      <td>3</td>\n",
       "    </tr>\n",
       "    <tr>\n",
       "      <th>2</th>\n",
       "      <td>check ticket</td>\n",
       "      <td>Ellen</td>\n",
       "      <td>2010-12-30 16:34:00+00:00</td>\n",
       "      <td>check ticket</td>\n",
       "      <td>Ellen</td>\n",
       "      <td>100</td>\n",
       "      <td>3</td>\n",
       "    </tr>\n",
       "    <tr>\n",
       "      <th>3</th>\n",
       "      <td>decide</td>\n",
       "      <td>Sara</td>\n",
       "      <td>2011-01-06 09:18:00+00:00</td>\n",
       "      <td>decide</td>\n",
       "      <td>Sara</td>\n",
       "      <td>200</td>\n",
       "      <td>3</td>\n",
       "    </tr>\n",
       "    <tr>\n",
       "      <th>4</th>\n",
       "      <td>reinitiate request</td>\n",
       "      <td>Sara</td>\n",
       "      <td>2011-01-06 12:18:00+00:00</td>\n",
       "      <td>reinitiate request</td>\n",
       "      <td>Sara</td>\n",
       "      <td>200</td>\n",
       "      <td>3</td>\n",
       "    </tr>\n",
       "  </tbody>\n",
       "</table>\n",
       "</div>"
      ],
      "text/plain": [
       "         concept:name org:resource            time:timestamp  \\\n",
       "0    register request         Pete 2010-12-30 14:32:00+00:00   \n",
       "1    examine casually         Mike 2010-12-30 15:06:00+00:00   \n",
       "2        check ticket        Ellen 2010-12-30 16:34:00+00:00   \n",
       "3              decide         Sara 2011-01-06 09:18:00+00:00   \n",
       "4  reinitiate request         Sara 2011-01-06 12:18:00+00:00   \n",
       "\n",
       "             Activity Resource Costs case:concept:name  \n",
       "0    register request     Pete    50                 3  \n",
       "1    examine casually     Mike   400                 3  \n",
       "2        check ticket    Ellen   100                 3  \n",
       "3              decide     Sara   200                 3  \n",
       "4  reinitiate request     Sara   200                 3  "
      ]
     },
     "execution_count": 4,
     "metadata": {},
     "output_type": "execute_result"
    }
   ],
   "source": [
    "df = pm4py.convert_to_dataframe(log_xes)\n",
    "df[:5]"
   ]
  },
  {
   "cell_type": "code",
   "execution_count": 35,
   "id": "c18a1323-911d-46e4-9bb7-80aa68d24aad",
   "metadata": {
    "tags": []
   },
   "outputs": [
    {
     "data": {
      "application/vnd.jupyter.widget-view+json": {
       "model_id": "27265dd9c5594c1a8700b8345002c722",
       "version_major": 2,
       "version_minor": 0
      },
      "text/plain": [
       "exporting log, completed traces ::   0%|          | 0/6 [00:00<?, ?it/s]"
      ]
     },
     "metadata": {},
     "output_type": "display_data"
    }
   ],
   "source": [
    "pm4py.write_xes(df, \"data/test.xes\")"
   ]
  },
  {
   "cell_type": "code",
   "execution_count": 25,
   "id": "d3e87adc-6a86-4ee7-be3d-1cc13988bd7a",
   "metadata": {
    "tags": []
   },
   "outputs": [],
   "source": [
    "from pm4py.objects.log.obj import EventLog, EventStream, Event"
   ]
  },
  {
   "cell_type": "code",
   "execution_count": 15,
   "id": "0ffdee01-23ba-4c61-bd6d-ee1cc2901114",
   "metadata": {},
   "outputs": [
    {
     "data": {
      "text/plain": [
       "True"
      ]
     },
     "execution_count": 15,
     "metadata": {},
     "output_type": "execute_result"
    }
   ],
   "source": [
    "EventLog(log_xes._list, attributes=log_xes.attributes, extensions=log_xes.extensions, \n",
    "         omni_present=log_xes.omni_present, classifiers=log_xes.classifiers, \n",
    "         properties=log_xes.properties) == log_xes"
   ]
  },
  {
   "cell_type": "code",
   "execution_count": 28,
   "id": "05cccb36-9e95-4f45-9b39-84c380f50e42",
   "metadata": {
    "tags": []
   },
   "outputs": [
    {
     "data": {
      "text/plain": [
       "[{'attributes': {'concept:name': '3'}, 'events': [{'concept:name': 'register request', 'org:resource': 'Pete', 'time:timestamp': datetime.datetime(2010, 12, 30, 14, 32, tzinfo=datetime.timezone.utc), 'Activity': 'register request', 'Resource': 'Pete', 'Costs': '50', 'case:concept:name': '3'}, '..', {'concept:name': 'pay compensation', 'org:resource': 'Ellen', 'time:timestamp': datetime.datetime(2011, 1, 15, 10, 45, tzinfo=datetime.timezone.utc), 'Activity': 'pay compensation', 'Resource': 'Ellen', 'Costs': '200', 'case:concept:name': '3'}]}, '....', {'attributes': {'concept:name': '4'}, 'events': [{'concept:name': 'register request', 'org:resource': 'Pete', 'time:timestamp': datetime.datetime(2011, 1, 6, 15, 2, tzinfo=datetime.timezone.utc), 'Activity': 'register request', 'Resource': 'Pete', 'Costs': '50', 'case:concept:name': '4'}, '..', {'concept:name': 'reject request', 'org:resource': 'Ellen', 'time:timestamp': datetime.datetime(2011, 1, 12, 15, 44, tzinfo=datetime.timezone.utc), 'Activity': 'reject request', 'Resource': 'Ellen', 'Costs': '200', 'case:concept:name': '4'}]}]"
      ]
     },
     "execution_count": 28,
     "metadata": {},
     "output_type": "execute_result"
    }
   ],
   "source": [
    "pm4py.filter_start_activities(log_xes, [\"register request\"], retain=True)"
   ]
  },
  {
   "cell_type": "code",
   "execution_count": null,
   "id": "d05659a2-8b7c-406b-93a3-38433ace0618",
   "metadata": {},
   "outputs": [],
   "source": []
  }
 ],
 "metadata": {
  "kernelspec": {
   "display_name": "py310",
   "language": "python",
   "name": "py310"
  },
  "language_info": {
   "codemirror_mode": {
    "name": "ipython",
    "version": 3
   },
   "file_extension": ".py",
   "mimetype": "text/x-python",
   "name": "python",
   "nbconvert_exporter": "python",
   "pygments_lexer": "ipython3",
   "version": "3.10.13"
  }
 },
 "nbformat": 4,
 "nbformat_minor": 5
}
