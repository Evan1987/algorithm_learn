{
 "cells": [
  {
   "cell_type": "markdown",
   "id": "39da08c9-4f3a-4d3f-b84b-31e7334dc50d",
   "metadata": {},
   "source": [
    "# Regression on the deer data\n",
    "\n",
    "**Goal:** In this notebook you will work with TFP. You will set up different regression models that are able to output different conditional probability distribution. You will define all models with Keras and the Tensorflow probability framework and optimize the negative log likelihood (NLL). You compare the performace of all regression models on the test dataset.  \n",
    "\n",
    "\n",
    "**Usage:** This notebook should be a case study that you can do by yourself. Try to solve the exercises and then look at the solution and compare your results.\n",
    "\n",
    "**Dataset:** You work with a dataset that describes deer related car accidents in the years 2002 until 2011 on roads in Bavaria, Germany. It counts the number of deers killed during 30-minute periods anywhere in Bavaria. This dataset has been used previously for the analysis of count data in the statistics literature, and is originally from https://zenodo.org/record/17179. \n",
    "\n",
    "**Content:**\n",
    "* Load and split the dataset \n",
    "* Fit a linear regression model in keras and compute the minimal NLL with the optimal $\\sigma$\n",
    "* Fit a poisson regression model in keras and TFP\n",
    "* Fit a poisson regression model with hidden layers in keras and TFP\n",
    "* Fit a zero-inflated poisson regression model im keras and TFP\n",
    "* Fit a zero-inflated poisson regression model with hidden layers in keras and TFP\n",
    "* Fit a mixture model regression model in keras and TFP\n",
    "* Fit a mixture model regression model with hidden layers in keras and TFP\n",
    "* Compare the different models based on the NLL loss on the test dataset\n",
    "\n",
    "***Hint: Use the previous notebooks form this chapter and the one before as help and reference when you try to solve the exercises***  \n",
    "| [open in colab](https://colab.research.google.com/github/tensorchiefs/dl_book/blob/master/chapter_06/nb_ch06_02.ipynb)\n"
   ]
  },
  {
   "cell_type": "code",
   "execution_count": 34,
   "id": "c2960e4f-0785-465d-9895-ce275a9602b2",
   "metadata": {},
   "outputs": [],
   "source": [
    "import os\n",
    "import numpy as np\n",
    "import pandas as pd\n",
    "import matplotlib.pyplot as plt\n",
    "import tensorflow as tf\n",
    "import tensorflow_probability as tfp\n",
    "from tqdm import tqdm\n",
    "from tensorflow.keras import backend as K\n",
    "from tensorflow.keras.layers import Dense, Input\n",
    "from tensorflow.keras.optimizers import Adam\n",
    "from tensorflow.keras.models import Model\n",
    "from typing import *\n",
    "\n",
    "tfb = tfp.bijectors\n",
    "tfd = tfp.distributions\n",
    "data_path = os.path.join(os.path.dirname(os.getcwd()), \"data\")"
   ]
  },
  {
   "cell_type": "code",
   "execution_count": 13,
   "id": "5c7440e0-6408-4335-b738-410bd164f649",
   "metadata": {},
   "outputs": [
    {
     "name": "stdout",
     "output_type": "stream",
     "text": [
      "<class 'pandas.core.frame.DataFrame'>\n",
      "RangeIndex: 175296 entries, 0 to 175295\n",
      "Data columns (total 6 columns):\n",
      " #   Column   Non-Null Count   Dtype   \n",
      "---  ------   --------------   -----   \n",
      " 0   wild     175296 non-null  int32   \n",
      " 1   year     175296 non-null  float64 \n",
      " 2   time     175296 non-null  float64 \n",
      " 3   daytime  175296 non-null  category\n",
      " 4   weekday  175296 non-null  category\n",
      " 5   is_test  175296 non-null  int64   \n",
      "dtypes: category(2), float64(2), int32(1), int64(1)\n",
      "memory usage: 5.0 MB\n",
      "None\n",
      "0    140256\n",
      "1     35040\n",
      "Name: is_test, dtype: int64\n"
     ]
    },
    {
     "data": {
      "text/html": [
       "<div>\n",
       "<style scoped>\n",
       "    .dataframe tbody tr th:only-of-type {\n",
       "        vertical-align: middle;\n",
       "    }\n",
       "\n",
       "    .dataframe tbody tr th {\n",
       "        vertical-align: top;\n",
       "    }\n",
       "\n",
       "    .dataframe thead th {\n",
       "        text-align: right;\n",
       "    }\n",
       "</style>\n",
       "<table border=\"1\" class=\"dataframe\">\n",
       "  <thead>\n",
       "    <tr style=\"text-align: right;\">\n",
       "      <th></th>\n",
       "      <th>wild</th>\n",
       "      <th>year</th>\n",
       "      <th>time</th>\n",
       "      <th>daytime</th>\n",
       "      <th>weekday</th>\n",
       "      <th>is_test</th>\n",
       "    </tr>\n",
       "  </thead>\n",
       "  <tbody>\n",
       "    <tr>\n",
       "      <th>0</th>\n",
       "      <td>0</td>\n",
       "      <td>2002.0</td>\n",
       "      <td>0.000000</td>\n",
       "      <td>night.am</td>\n",
       "      <td>Sunday</td>\n",
       "      <td>0</td>\n",
       "    </tr>\n",
       "    <tr>\n",
       "      <th>1</th>\n",
       "      <td>0</td>\n",
       "      <td>2002.0</td>\n",
       "      <td>0.020833</td>\n",
       "      <td>night.am</td>\n",
       "      <td>Sunday</td>\n",
       "      <td>0</td>\n",
       "    </tr>\n",
       "    <tr>\n",
       "      <th>2</th>\n",
       "      <td>0</td>\n",
       "      <td>2002.0</td>\n",
       "      <td>0.041667</td>\n",
       "      <td>night.am</td>\n",
       "      <td>Sunday</td>\n",
       "      <td>0</td>\n",
       "    </tr>\n",
       "    <tr>\n",
       "      <th>3</th>\n",
       "      <td>1</td>\n",
       "      <td>2002.0</td>\n",
       "      <td>0.062500</td>\n",
       "      <td>night.am</td>\n",
       "      <td>Sunday</td>\n",
       "      <td>0</td>\n",
       "    </tr>\n",
       "    <tr>\n",
       "      <th>4</th>\n",
       "      <td>3</td>\n",
       "      <td>2002.0</td>\n",
       "      <td>0.083333</td>\n",
       "      <td>night.am</td>\n",
       "      <td>Sunday</td>\n",
       "      <td>0</td>\n",
       "    </tr>\n",
       "  </tbody>\n",
       "</table>\n",
       "</div>"
      ],
      "text/plain": [
       "   wild    year      time   daytime weekday  is_test\n",
       "0     0  2002.0  0.000000  night.am  Sunday        0\n",
       "1     0  2002.0  0.020833  night.am  Sunday        0\n",
       "2     0  2002.0  0.041667  night.am  Sunday        0\n",
       "3     1  2002.0  0.062500  night.am  Sunday        0\n",
       "4     3  2002.0  0.083333  night.am  Sunday        0"
      ]
     },
     "execution_count": 13,
     "metadata": {},
     "output_type": "execute_result"
    }
   ],
   "source": [
    "df_train = pd.read_feather(os.path.join(data_path, \"deer_train.feather\"))\n",
    "df_test = pd.read_feather(os.path.join(data_path, \"deer_test.feather\"))\n",
    "data = pd.concat([df_train.assign(is_test=0), df_test.assign(is_test=1)], axis=0, ignore_index=True)\n",
    "print(data.info())\n",
    "print(data[\"is_test\"].value_counts())\n",
    "data[:5]"
   ]
  },
  {
   "cell_type": "code",
   "execution_count": 14,
   "id": "e5a6c757-55c1-45e8-9405-c704d0f09c15",
   "metadata": {},
   "outputs": [
    {
     "name": "stdout",
     "output_type": "stream",
     "text": [
      "['night.am', 'pre.sunrise.am', 'post.sunrise.am', 'day.am', 'day.pm', 'pre.sunset.pm', 'post.sunset.pm', 'night.pm']\n",
      "Categories (8, object): ['day.am', 'night.am', 'pre.sunrise.am', 'post.sunrise.am', 'day.pm', 'night.pm', 'pre.sunset.pm', 'post.sunset.pm']\n",
      "['Sunday', 'Wednesday', 'Thursday', 'Friday', 'Saturday', 'Monday', 'Tuesday']\n",
      "Categories (7, object): ['Monday', 'Tuesday', 'Wednesday', 'Thursday', 'Friday', 'Saturday', 'Sunday']\n"
     ]
    }
   ],
   "source": [
    "print(data[\"daytime\"].unique())\n",
    "print(data[\"weekday\"].unique())"
   ]
  },
  {
   "cell_type": "code",
   "execution_count": 27,
   "id": "ba9b117d-83f0-4ffe-893e-d18a7827b5cf",
   "metadata": {},
   "outputs": [],
   "source": [
    "label = \"wild\"\n",
    "features = [\"time\", \"daytime\", \"weekday\"]\n",
    "train_cond = data[\"is_test\"] == 0\n",
    "\n",
    "data[\"time\"] /= (df_train[\"time\"].max() + 1 / 48)\n",
    "data[label] = data[label].astype(\"float32\")\n",
    "\n",
    "y_train = data.loc[train_cond, label]\n",
    "y_test = data.loc[~train_cond, label]\n",
    "\n",
    "X_train = pd.get_dummies(data.loc[train_cond, features])\n",
    "X_test = pd.get_dummies(data.loc[~train_cond, features])\n",
    "del data, df_train, df_test"
   ]
  },
  {
   "cell_type": "code",
   "execution_count": 29,
   "id": "e8198f85-a5ac-427f-9cc4-d8832091e0ba",
   "metadata": {},
   "outputs": [
    {
     "data": {
      "text/plain": [
       "((140256, 16), (35040, 16))"
      ]
     },
     "execution_count": 29,
     "metadata": {},
     "output_type": "execute_result"
    }
   ],
   "source": [
    "X_train.shape, X_test.shape"
   ]
  },
  {
   "cell_type": "markdown",
   "id": "75f10b8e-4abb-4edd-a7f7-5bc54adbe48f",
   "metadata": {},
   "source": [
    "Let's look at the distribution of the target variable: the number of deers killed during that 30-minute period. As you can see the distribution is very skewed. Gor most of the time the nummber of deers killed by a car is, as you would expect, zero. On the other hand you can see that there were two 30-minute periods where 37 and 38 deers died! "
   ]
  },
  {
   "cell_type": "code",
   "execution_count": 30,
   "id": "0ea1085b-fad1-4a4a-b386-3c0841b7d0ea",
   "metadata": {},
   "outputs": [
    {
     "data": {
      "image/png": "[encoded data removed]",
      "text/plain": [
       "<Figure size 640x480 with 1 Axes>"
      ]
     },
     "metadata": {},
     "output_type": "display_data"
    }
   ],
   "source": [
    "vals, counts = np.unique(y_train, return_counts=True)\n",
    "plt.stem(vals, counts)\n",
    "plt.xlabel('Count: number of deers killed')\n",
    "plt.ylabel('Frequency')\n",
    "plt.xlim(-1,40)\n",
    "plt.show()"
   ]
  },
  {
   "cell_type": "markdown",
   "id": "dc6e97e2-05e6-4c43-9c8e-16f3f8e4aa17",
   "metadata": {},
   "source": [
    "### Fitting and comparing different regression models on count data\n",
    "\n",
    "*Exercise :     \n",
    "Fit a linear regression model in keras and compute the minimal NLL with the optimal $\\sigma$  \n",
    "Fit a poisson regression model in keras and TFP  \n",
    "Fit a poisson regression model with hidden layers in keras and TFP  \n",
    "Fit a zero-inflated poisson regression model im keras and TFP  \n",
    "Fit a zero-inflated poisson regression model with hidden layers in keras and TFP  \n",
    "Fit a mixture model regression model in keras and TFP  \n",
    "Fit a mixture model regression model with hidden layers in keras and TFP*  \n",
    "\n",
    "*Compare the different models based on the NLL loss on the test dataset*"
   ]
  },
  {
   "cell_type": "markdown",
   "id": "0e45df45-3823-43b6-a7a6-3913fdcc029c",
   "metadata": {},
   "source": [
    "## Linear regression\n",
    "\n",
    "In this section you do a standard linear regression in keras and optimize the mean squared error. Afterwards, you can claculate the optimal constant sigma by hand and compare the NLL for the train and testset. Finally you plot the predicted vs the true labels of the number of deers killed in a 30-minutes period."
   ]
  },
  {
   "cell_type": "code",
   "execution_count": 38,
   "id": "66021209-da23-46e0-97a6-d0579e77ec76",
   "metadata": {},
   "outputs": [
    {
     "ename": "TypeError",
     "evalue": "You are passing KerasTensor(type_spec=TensorSpec(shape=(None, 1), dtype=tf.float32, name=None), name='tf.zeros_like_3/zeros_like:0', description=\"created by layer 'tf.zeros_like_3'\"), an intermediate Keras symbolic input/output, to a TF API that does not allow registering custom dispatchers, such as `tf.cond`, `tf.function`, gradient tapes, or `tf.map_fn`. Keras Functional model construction only supports TF API calls that *do* support dispatching, such as `tf.math.add` or `tf.reshape`. Other APIs cannot be called directly on symbolic Kerasinputs/outputs. You can work around this limitation by putting the operation in a custom Keras layer `call` and calling that layer on this symbolic input/output.",
     "output_type": "error",
     "traceback": [
      "\u001b[1;31m---------------------------------------------------------------------------\u001b[0m",
      "\u001b[1;31mTypeError\u001b[0m                                 Traceback (most recent call last)",
      "Input \u001b[1;32mIn [38]\u001b[0m, in \u001b[0;36m<cell line: 3>\u001b[1;34m()\u001b[0m\n\u001b[0;32m      1\u001b[0m inputs \u001b[38;5;241m=\u001b[39m Input(shape\u001b[38;5;241m=\u001b[39m(X_train\u001b[38;5;241m.\u001b[39mshape[\u001b[38;5;241m1\u001b[39m]))\n\u001b[0;32m      2\u001b[0m loc \u001b[38;5;241m=\u001b[39m Dense(\u001b[38;5;241m1\u001b[39m, activation\u001b[38;5;241m=\u001b[39m\u001b[38;5;124m\"\u001b[39m\u001b[38;5;124mlinear\u001b[39m\u001b[38;5;124m\"\u001b[39m)(inputs)\n\u001b[1;32m----> 3\u001b[0m sigma \u001b[38;5;241m=\u001b[39m \u001b[43mK\u001b[49m\u001b[38;5;241;43m.\u001b[39;49m\u001b[43mvariable\u001b[49m\u001b[43m(\u001b[49m\u001b[43mK\u001b[49m\u001b[38;5;241;43m.\u001b[39;49m\u001b[43mzeros_like\u001b[49m\u001b[43m(\u001b[49m\u001b[43mloc\u001b[49m\u001b[43m)\u001b[49m\u001b[43m)\u001b[49m\n\u001b[0;32m      4\u001b[0m out \u001b[38;5;241m=\u001b[39m K\u001b[38;5;241m.\u001b[39mconcatenate([loc, sigma], axis\u001b[38;5;241m=\u001b[39m\u001b[38;5;241m1\u001b[39m)\n\u001b[0;32m      5\u001b[0m p_y \u001b[38;5;241m=\u001b[39m tfp\u001b[38;5;241m.\u001b[39mlayers\u001b[38;5;241m.\u001b[39mDistributionLambda(\u001b[38;5;28;01mlambda\u001b[39;00m out: tfd\u001b[38;5;241m.\u001b[39mNormal(loc\u001b[38;5;241m=\u001b[39mout[:, \u001b[38;5;241m0\u001b[39m], scale\u001b[38;5;241m=\u001b[39mout[:, \u001b[38;5;241m1\u001b[39m]))(out)\n",
      "File \u001b[1;32mC:\\env\\conda\\lib\\site-packages\\keras\\backend.py:1065\u001b[0m, in \u001b[0;36mvariable\u001b[1;34m(value, dtype, name, constraint)\u001b[0m\n\u001b[0;32m   1063\u001b[0m   v\u001b[38;5;241m.\u001b[39m_keras_shape \u001b[38;5;241m=\u001b[39m sparse_coo\u001b[38;5;241m.\u001b[39mshape\n\u001b[0;32m   1064\u001b[0m   \u001b[38;5;28;01mreturn\u001b[39;00m v\n\u001b[1;32m-> 1065\u001b[0m v \u001b[38;5;241m=\u001b[39m \u001b[43mtf\u001b[49m\u001b[38;5;241;43m.\u001b[39;49m\u001b[43mVariable\u001b[49m\u001b[43m(\u001b[49m\n\u001b[0;32m   1066\u001b[0m \u001b[43m    \u001b[49m\u001b[43mvalue\u001b[49m\u001b[43m,\u001b[49m\n\u001b[0;32m   1067\u001b[0m \u001b[43m    \u001b[49m\u001b[43mdtype\u001b[49m\u001b[38;5;241;43m=\u001b[39;49m\u001b[43mtf\u001b[49m\u001b[38;5;241;43m.\u001b[39;49m\u001b[43mas_dtype\u001b[49m\u001b[43m(\u001b[49m\u001b[43mdtype\u001b[49m\u001b[43m)\u001b[49m\u001b[43m,\u001b[49m\n\u001b[0;32m   1068\u001b[0m \u001b[43m    \u001b[49m\u001b[43mname\u001b[49m\u001b[38;5;241;43m=\u001b[39;49m\u001b[43mname\u001b[49m\u001b[43m,\u001b[49m\n\u001b[0;32m   1069\u001b[0m \u001b[43m    \u001b[49m\u001b[43mconstraint\u001b[49m\u001b[38;5;241;43m=\u001b[39;49m\u001b[43mconstraint\u001b[49m\u001b[43m)\u001b[49m\n\u001b[0;32m   1070\u001b[0m \u001b[38;5;28;01mif\u001b[39;00m \u001b[38;5;28misinstance\u001b[39m(value, np\u001b[38;5;241m.\u001b[39mndarray):\n\u001b[0;32m   1071\u001b[0m   v\u001b[38;5;241m.\u001b[39m_keras_shape \u001b[38;5;241m=\u001b[39m value\u001b[38;5;241m.\u001b[39mshape\n",
      "File \u001b[1;32mC:\\env\\conda\\lib\\site-packages\\tensorflow\\python\\util\\traceback_utils.py:153\u001b[0m, in \u001b[0;36mfilter_traceback.<locals>.error_handler\u001b[1;34m(*args, **kwargs)\u001b[0m\n\u001b[0;32m    151\u001b[0m \u001b[38;5;28;01mexcept\u001b[39;00m \u001b[38;5;167;01mException\u001b[39;00m \u001b[38;5;28;01mas\u001b[39;00m e:\n\u001b[0;32m    152\u001b[0m   filtered_tb \u001b[38;5;241m=\u001b[39m _process_traceback_frames(e\u001b[38;5;241m.\u001b[39m__traceback__)\n\u001b[1;32m--> 153\u001b[0m   \u001b[38;5;28;01mraise\u001b[39;00m e\u001b[38;5;241m.\u001b[39mwith_traceback(filtered_tb) \u001b[38;5;28;01mfrom\u001b[39;00m \u001b[38;5;28mNone\u001b[39m\n\u001b[0;32m    154\u001b[0m \u001b[38;5;28;01mfinally\u001b[39;00m:\n\u001b[0;32m    155\u001b[0m   \u001b[38;5;28;01mdel\u001b[39;00m filtered_tb\n",
      "File \u001b[1;32mC:\\env\\conda\\lib\\site-packages\\keras\\engine\\keras_tensor.py:255\u001b[0m, in \u001b[0;36mKerasTensor.__array__\u001b[1;34m(self, dtype)\u001b[0m\n\u001b[0;32m    254\u001b[0m \u001b[38;5;28;01mdef\u001b[39;00m \u001b[38;5;21m__array__\u001b[39m(\u001b[38;5;28mself\u001b[39m, dtype\u001b[38;5;241m=\u001b[39m\u001b[38;5;28;01mNone\u001b[39;00m):\n\u001b[1;32m--> 255\u001b[0m   \u001b[38;5;28;01mraise\u001b[39;00m \u001b[38;5;167;01mTypeError\u001b[39;00m(\n\u001b[0;32m    256\u001b[0m       \u001b[38;5;124mf\u001b[39m\u001b[38;5;124m'\u001b[39m\u001b[38;5;124mYou are passing \u001b[39m\u001b[38;5;132;01m{\u001b[39;00m\u001b[38;5;28mself\u001b[39m\u001b[38;5;132;01m}\u001b[39;00m\u001b[38;5;124m, an intermediate Keras symbolic input/output, \u001b[39m\u001b[38;5;124m'\u001b[39m\n\u001b[0;32m    257\u001b[0m       \u001b[38;5;124m'\u001b[39m\u001b[38;5;124mto a TF API that does not allow registering custom dispatchers, such \u001b[39m\u001b[38;5;124m'\u001b[39m\n\u001b[0;32m    258\u001b[0m       \u001b[38;5;124m'\u001b[39m\u001b[38;5;124mas `tf.cond`, `tf.function`, gradient tapes, or `tf.map_fn`. \u001b[39m\u001b[38;5;124m'\u001b[39m\n\u001b[0;32m    259\u001b[0m       \u001b[38;5;124m'\u001b[39m\u001b[38;5;124mKeras Functional model construction only supports \u001b[39m\u001b[38;5;124m'\u001b[39m\n\u001b[0;32m    260\u001b[0m       \u001b[38;5;124m'\u001b[39m\u001b[38;5;124mTF API calls that *do* support dispatching, such as `tf.math.add` or \u001b[39m\u001b[38;5;124m'\u001b[39m\n\u001b[0;32m    261\u001b[0m       \u001b[38;5;124m'\u001b[39m\u001b[38;5;124m`tf.reshape`. \u001b[39m\u001b[38;5;124m'\u001b[39m\n\u001b[0;32m    262\u001b[0m       \u001b[38;5;124m'\u001b[39m\u001b[38;5;124mOther APIs cannot be called directly on symbolic Keras\u001b[39m\u001b[38;5;124m'\u001b[39m\n\u001b[0;32m    263\u001b[0m       \u001b[38;5;124m'\u001b[39m\u001b[38;5;124minputs/outputs. You can work around \u001b[39m\u001b[38;5;124m'\u001b[39m\n\u001b[0;32m    264\u001b[0m       \u001b[38;5;124m'\u001b[39m\u001b[38;5;124mthis limitation by putting the operation in a custom Keras layer \u001b[39m\u001b[38;5;124m'\u001b[39m\n\u001b[0;32m    265\u001b[0m       \u001b[38;5;124m'\u001b[39m\u001b[38;5;124m`call` and calling that layer \u001b[39m\u001b[38;5;124m'\u001b[39m\n\u001b[0;32m    266\u001b[0m       \u001b[38;5;124m'\u001b[39m\u001b[38;5;124mon this symbolic input/output.\u001b[39m\u001b[38;5;124m'\u001b[39m)\n",
      "\u001b[1;31mTypeError\u001b[0m: You are passing KerasTensor(type_spec=TensorSpec(shape=(None, 1), dtype=tf.float32, name=None), name='tf.zeros_like_3/zeros_like:0', description=\"created by layer 'tf.zeros_like_3'\"), an intermediate Keras symbolic input/output, to a TF API that does not allow registering custom dispatchers, such as `tf.cond`, `tf.function`, gradient tapes, or `tf.map_fn`. Keras Functional model construction only supports TF API calls that *do* support dispatching, such as `tf.math.add` or `tf.reshape`. Other APIs cannot be called directly on symbolic Kerasinputs/outputs. You can work around this limitation by putting the operation in a custom Keras layer `call` and calling that layer on this symbolic input/output."
     ]
    }
   ],
   "source": [
    "inputs = Input(shape=(X_train.shape[1]))\n",
    "loc = Dense(1, activation=\"linear\")(inputs)\n",
    "sigma = tf.keras.layers.Lambda()\n",
    "out = K.concatenate([loc, sigma], axis=1)\n",
    "p_y = tfp.layers.DistributionLambda(lambda out: tfd.Normal(loc=out[:, 0], scale=out[:, 1]))(out)\n",
    "model_lr = Model(inputs=inputs, outputs=p_y)\n",
    "model_lr.compile(optimizer=Adam(learning_rate=0.01), loss=lambda y_pred, dist: -dist.log_prob(y_pred))\n",
    "model_lr.summary()"
   ]
  },
  {
   "cell_type": "code",
   "execution_count": null,
   "id": "a2c9a4ca-538e-4b17-8553-340d9c4f19d3",
   "metadata": {},
   "outputs": [],
   "source": []
  },
  {
   "cell_type": "code",
   "execution_count": null,
   "id": "41e0c3f3-347f-4e6f-bad1-8bca7119b836",
   "metadata": {},
   "outputs": [],
   "source": []
  },
  {
   "cell_type": "code",
   "execution_count": null,
   "id": "0c117004-af3b-4615-b1df-7785fedbe76f",
   "metadata": {},
   "outputs": [],
   "source": []
  },
  {
   "cell_type": "code",
   "execution_count": null,
   "id": "36371965-3235-439e-9ebe-95d1b5d20ac2",
   "metadata": {},
   "outputs": [],
   "source": []
  }
 ],
 "metadata": {
  "kernelspec": {
   "display_name": "Python 3 (ipykernel)",
   "language": "python",
   "name": "python3"
  },
  "language_info": {
   "codemirror_mode": {
    "name": "ipython",
    "version": 3
   },
   "file_extension": ".py",
   "mimetype": "text/x-python",
   "name": "python",
   "nbconvert_exporter": "python",
   "pygments_lexer": "ipython3",
   "version": "3.8.13"
  }
 },
 "nbformat": 4,
 "nbformat_minor": 5
}
