{
 "cells": [
  {
   "cell_type": "markdown",
   "id": "576df64a-29db-45d5-8e84-37b624aef765",
   "metadata": {},
   "source": [
    "# A simple CNN for the edge lover task\n",
    "\n",
    "**Goal:** In this notebook you train a very simple CNN with only 1 kernel to discriminate images containing vertical from those containing horizontal stripes. To check what pattern is recognized by the learned kernel you will visualize the weights of the kernel as an image. You will see that the CNN leans a useful kernel (either a vertical or horiziontal bar).You can experiment with the code to check the influence of the kernel size, the activation function and the pooling method on the result.  \n",
    "\n",
    "**Usage:** The idea of the notebook is that you try to understand the provided code by running it, checking the output and playing with it by slightly changing the code and rerunning it.  \n",
    "\n",
    "**Dataset:** You work with an artficially generatet dataset of greyscale images (50x50 pixel) with 10 vertical or horizontal bars. We want to classify them into whether or not an art lover will like them(0 or 1).  \n",
    "\n",
    "**Content:**\n",
    "* definig and generating the dataset X_train and X_val\n",
    "* visualize samples of the generated images\n",
    "* use keras to train a CNN with only one kernel (5x5 pixel)\n",
    "* visualize the weights of the leaned kernel and interpret if it is useful\n",
    "* repeat the last two steps to check if the learned kernel is always the same\n",
    "\n",
    "\n",
    "| [open in colab](https://colab.research.google.com/github/tensorchiefs/dl_book/blob/master/chapter_02/nb_ch02_03.ipynb)\n"
   ]
  },
  {
   "cell_type": "code",
   "execution_count": 7,
   "id": "16f6ff6f-f800-4622-95e6-110c02937e29",
   "metadata": {},
   "outputs": [],
   "source": [
    "import numpy as np\n",
    "import matplotlib.pyplot as plt\n",
    "from random import Random\n",
    "from tensorflow.keras.models import Sequential\n",
    "from tensorflow.keras.layers import Dense, Convolution2D, MaxPooling2D, Flatten , Activation\n",
    "from tensorflow.keras.utils import to_categorical\n",
    "from typing import *"
   ]
  },
  {
   "cell_type": "markdown",
   "id": "f6f6ffa9-c940-44a3-b1cc-ae62328e8dfa",
   "metadata": {},
   "source": [
    "### Defining functions to generate images \n",
    "\n",
    "Here we define the function to genere images with vertical and horizontal bars.  \n",
    "The arguments of the functions are the size of the image and the nr of bars you want to have.  \n",
    "The bars are at random positions in the image with a random length.   \n",
    "The image is black and white, meaning we have only two values for the pixels, 0 for black and 255 for white."
   ]
  },
  {
   "cell_type": "code",
   "execution_count": 15,
   "id": "94c48558-8e95-4e10-8786-48b0e99e6bde",
   "metadata": {},
   "outputs": [],
   "source": [
    "def generate_images_with_bars(size: int, n_bars: int, seed: int = 0, vertical: bool = True) -> np.ndarray:\n",
    "    img = np.zeros((size, size), dtype=\"uint8\")\n",
    "    rng = Random(seed)\n",
    "    for i in range(n_bars):\n",
    "        x, y = [rng.randint(0, size) for _ in range(2)]  # start point of bar\n",
    "        if vertical:\n",
    "            end = rng.randint(y, size)\n",
    "            img[y: end, x] = 255\n",
    "        else:\n",
    "            end = rng.randint(x, size)\n",
    "            img[y, x: end] = 255\n",
    "        # print((x, y), end)\n",
    "    return img\n"
   ]
  },
  {
   "cell_type": "code",
   "execution_count": 19,
   "id": "6bc80c4a-4ac9-4133-b789-130a309bbc0f",
   "metadata": {},
   "outputs": [
    {
     "data": {
      "image/png": "[encoded data removed]",
      "text/plain": [
       "<Figure size 800x400 with 2 Axes>"
      ]
     },
     "metadata": {},
     "output_type": "display_data"
    }
   ],
   "source": [
    "fig, axes = plt.subplots(ncols=2, figsize=(8, 4))\n",
    "\n",
    "img = generate_images_with_bars(50, 10, seed=0, vertical=True)\n",
    "ax = axes[0]\n",
    "ax.imshow(img, cmap=\"gray\")\n",
    "\n",
    "img = generate_images_with_bars(50, 10, seed=42, vertical=False)\n",
    "ax = axes[1]\n",
    "ax.imshow(img, cmap=\"gray\")\n",
    "plt.show()"
   ]
  },
  {
   "cell_type": "markdown",
   "id": "1f21a816-0797-4df3-b195-26ba18b19bf0",
   "metadata": {},
   "source": [
    "### Make a train and validation dataset of images with vertical and horizontal images\n",
    "Now, let's make a train dataset *X_train* with 1000 images (500 images with vertical and 500 images with horizontal bars).  \n",
    "We normalize the images values to be between 0 and 1 by dividing all values with 255.   \n",
    "We create a secont dataste *X_val* with exactly the same properties to validate the training of the CNN."
   ]
  },
  {
   "cell_type": "code",
   "execution_count": 28,
   "id": "1b4cc779-6dee-42d5-be1f-0ada64d55fae",
   "metadata": {},
   "outputs": [
    {
     "name": "stdout",
     "output_type": "stream",
     "text": [
      "(1000, 50, 50, 1)\n",
      "(1000, 50, 50, 1)\n",
      "(1000, 2)\n",
      "(1000, 2)\n"
     ]
    }
   ],
   "source": [
    "size = 50  \n",
    "seed = 42\n",
    "n_bars = 10\n",
    "n_train = 1000 #Number of training examples (divisible by 2) \n",
    "\n",
    "X_vertical = np.zeros((n_train, size, size))\n",
    "X_horizontal = np.zeros_like(X_vertical)\n",
    "\n",
    "for i in range(len(X_vertical)):\n",
    "    X_vertical[i] = generate_images_with_bars(size, n_bars, seed, vertical=True)\n",
    "\n",
    "for i in range(len(X_horizontal)):\n",
    "    X_horizontal[i] = generate_images_with_bars(size, n_bars, seed, vertical=False)\n",
    "\n",
    "\n",
    "X_train = np.vstack([X_vertical[: n_train // 2], X_horizontal[: n_train // 2]])\n",
    "y_train = np.repeat([0, 1], n_train // 2)   # like horizontal, dislike vertical\n",
    "\n",
    "X_val = np.vstack([X_vertical[n_train // 2: ], X_horizontal[n_train // 2: ]])\n",
    "y_val = np.repeat([0, 1], n_train // 2)\n",
    "                      \n",
    "# normalize the data to be between 0 and 1\n",
    "X_train /= 255\n",
    "X_val /= 255\n",
    "\n",
    "X_train = X_train[..., None]\n",
    "X_val = X_val[..., None]\n",
    "y_train = to_categorical(y_train, 2)\n",
    "y_val = to_categorical(y_val, 2)\n",
    "\n",
    "print(X_train.shape)\n",
    "print(X_val.shape)\n",
    "print(y_train.shape)\n",
    "print(y_val.shape)"
   ]
  },
  {
   "cell_type": "code",
   "execution_count": 22,
   "id": "aad31336-5ef1-4f22-a8ba-46f0792b3787",
   "metadata": {},
   "outputs": [],
   "source": [
    "y = np.array([[0],[1]])\n",
    "y2 = np.repeat(y, 500)"
   ]
  },
  {
   "cell_type": "code",
   "execution_count": 25,
   "id": "d94f9570-a6df-4929-8262-ab56ebde64e2",
   "metadata": {},
   "outputs": [
    {
     "data": {
      "text/plain": [
       "array([0, 0, 1, 1])"
      ]
     },
     "execution_count": 25,
     "metadata": {},
     "output_type": "execute_result"
    }
   ],
   "source": [
    "np.repeat([0, 1], 2)"
   ]
  },
  {
   "cell_type": "code",
   "execution_count": null,
   "id": "e7b4bcbe-b4f7-42bf-b0aa-18f70f0ee694",
   "metadata": {},
   "outputs": [],
   "source": [
    "# create class labels\n",
    "y = np.array([[0],[1]])\n",
    "y_train = np.repeat(y, num_images_train // 2)\n",
    "y_val = np.repeat(y, num_images_train // 2)\n",
    "\n",
    "# one-hot-encoding\n",
    "y_train = to_categorical(y_train, 2)\n",
    "y_val = to_categorical(y_val, 2)"
   ]
  },
  {
   "cell_type": "markdown",
   "id": "ff73f0d7-6708-4adf-9e4d-83adf20d0231",
   "metadata": {},
   "source": [
    "## Defining the CNN to predict which images the art lover likes\n",
    "\n",
    "Here we define the kind of special architecture of the CNN: \n",
    "\n",
    ">we use only one kernel with a size of 5x5 pixels  \n",
    ">then we apply a linar activation function  \n",
    ">the maxpooling layer takes the maximum of the whole activation map to predict the probability (output layer with softmax) if the art lover will like the image\n",
    "\n",
    "as loss we use the categorical_crossentropy and we train for 20 epochs with a batchsize of 64 images per update."
   ]
  },
  {
   "cell_type": "code",
   "execution_count": 29,
   "id": "18103b93-c376-4383-b0fe-8157df4aee6f",
   "metadata": {},
   "outputs": [
    {
     "name": "stdout",
     "output_type": "stream",
     "text": [
      "Model: \"sequential\"\n",
      "_________________________________________________________________\n",
      " Layer (type)                Output Shape              Param #   \n",
      "=================================================================\n",
      " conv2d (Conv2D)             (None, 50, 50, 1)         26        \n",
      "                                                                 \n",
      " activation (Activation)     (None, 50, 50, 1)         0         \n",
      "                                                                 \n",
      " max_pooling2d (MaxPooling2D  (None, 1, 1, 1)          0         \n",
      " )                                                               \n",
      "                                                                 \n",
      " flatten (Flatten)           (None, 1)                 0         \n",
      "                                                                 \n",
      " dense (Dense)               (None, 2)                 4         \n",
      "                                                                 \n",
      " activation_1 (Activation)   (None, 2)                 0         \n",
      "                                                                 \n",
      "=================================================================\n",
      "Total params: 30\n",
      "Trainable params: 30\n",
      "Non-trainable params: 0\n",
      "_________________________________________________________________\n"
     ]
    }
   ],
   "source": [
    "model = Sequential()\n",
    "\n",
    "model.add(Convolution2D(1, (5, 5), padding='same', input_shape=(size, size, 1)))\n",
    "model.add(Activation('linear'))\n",
    "\n",
    "# take the max over all values in the activation map\n",
    "model.add(MaxPooling2D(pool_size=(size, size)))\n",
    "model.add(Flatten()) \n",
    "model.add(Dense(2))\n",
    "model.add(Activation('softmax'))\n",
    "\n",
    "# compile model and initialize weights\n",
    "model.compile(loss='categorical_crossentropy', optimizer='adam', metrics=['accuracy'])\n",
    "model.summary()"
   ]
  },
  {
   "cell_type": "code",
   "execution_count": 30,
   "id": "fc8f65cd-7aa7-499f-9a84-9a7be6c58d4a",
   "metadata": {},
   "outputs": [
    {
     "name": "stdout",
     "output_type": "stream",
     "text": [
      "Epoch 1/50\n",
      "16/16 [==============================] - 3s 19ms/step - loss: 0.7945 - accuracy: 0.5000 - val_loss: 0.7545 - val_accuracy: 0.5000\n",
      "Epoch 2/50\n",
      "16/16 [==============================] - 0s 8ms/step - loss: 0.7288 - accuracy: 0.5000 - val_loss: 0.7080 - val_accuracy: 0.5000\n",
      "Epoch 3/50\n",
      "16/16 [==============================] - 0s 8ms/step - loss: 0.6922 - accuracy: 0.5000 - val_loss: 0.6733 - val_accuracy: 0.5000\n",
      "Epoch 4/50\n",
      "16/16 [==============================] - 0s 8ms/step - loss: 0.6618 - accuracy: 0.5000 - val_loss: 0.6493 - val_accuracy: 0.5000\n",
      "Epoch 5/50\n",
      "16/16 [==============================] - 0s 7ms/step - loss: 0.6399 - accuracy: 0.5000 - val_loss: 0.6286 - val_accuracy: 0.5000\n",
      "Epoch 6/50\n",
      "16/16 [==============================] - 0s 7ms/step - loss: 0.6195 - accuracy: 0.5000 - val_loss: 0.6093 - val_accuracy: 0.5000\n",
      "Epoch 7/50\n",
      "16/16 [==============================] - 0s 7ms/step - loss: 0.6006 - accuracy: 0.5000 - val_loss: 0.5910 - val_accuracy: 0.5000\n",
      "Epoch 8/50\n",
      "16/16 [==============================] - 0s 7ms/step - loss: 0.5829 - accuracy: 0.5000 - val_loss: 0.5734 - val_accuracy: 0.5000\n",
      "Epoch 9/50\n",
      "16/16 [==============================] - 0s 6ms/step - loss: 0.5658 - accuracy: 0.5000 - val_loss: 0.5566 - val_accuracy: 0.5000\n",
      "Epoch 10/50\n",
      "16/16 [==============================] - 0s 7ms/step - loss: 0.5492 - accuracy: 0.5000 - val_loss: 0.5404 - val_accuracy: 0.5000\n",
      "Epoch 11/50\n",
      "16/16 [==============================] - 0s 7ms/step - loss: 0.5328 - accuracy: 0.5000 - val_loss: 0.5241 - val_accuracy: 0.5000\n",
      "Epoch 12/50\n",
      "16/16 [==============================] - 0s 7ms/step - loss: 0.5167 - accuracy: 0.5000 - val_loss: 0.5077 - val_accuracy: 0.5000\n",
      "Epoch 13/50\n",
      "16/16 [==============================] - 0s 7ms/step - loss: 0.5002 - accuracy: 0.5840 - val_loss: 0.4915 - val_accuracy: 1.0000\n",
      "Epoch 14/50\n",
      "16/16 [==============================] - 0s 7ms/step - loss: 0.4840 - accuracy: 1.0000 - val_loss: 0.4751 - val_accuracy: 1.0000\n",
      "Epoch 15/50\n",
      "16/16 [==============================] - 0s 7ms/step - loss: 0.4675 - accuracy: 1.0000 - val_loss: 0.4585 - val_accuracy: 1.0000\n",
      "Epoch 16/50\n",
      "16/16 [==============================] - 0s 6ms/step - loss: 0.4509 - accuracy: 1.0000 - val_loss: 0.4418 - val_accuracy: 1.0000\n",
      "Epoch 17/50\n",
      "16/16 [==============================] - 0s 7ms/step - loss: 0.4364 - accuracy: 1.0000 - val_loss: 0.4306 - val_accuracy: 1.0000\n",
      "Epoch 18/50\n",
      "16/16 [==============================] - 0s 6ms/step - loss: 0.4255 - accuracy: 1.0000 - val_loss: 0.4194 - val_accuracy: 1.0000\n",
      "Epoch 19/50\n",
      "16/16 [==============================] - 0s 6ms/step - loss: 0.4143 - accuracy: 1.0000 - val_loss: 0.4087 - val_accuracy: 1.0000\n",
      "Epoch 20/50\n",
      "16/16 [==============================] - 0s 7ms/step - loss: 0.4039 - accuracy: 1.0000 - val_loss: 0.3983 - val_accuracy: 1.0000\n",
      "Epoch 21/50\n",
      "16/16 [==============================] - 0s 7ms/step - loss: 0.3935 - accuracy: 1.0000 - val_loss: 0.3879 - val_accuracy: 1.0000\n",
      "Epoch 22/50\n",
      "16/16 [==============================] - 0s 7ms/step - loss: 0.3830 - accuracy: 1.0000 - val_loss: 0.3772 - val_accuracy: 1.0000\n",
      "Epoch 23/50\n",
      "16/16 [==============================] - 0s 6ms/step - loss: 0.3725 - accuracy: 1.0000 - val_loss: 0.3670 - val_accuracy: 1.0000\n",
      "Epoch 24/50\n",
      "16/16 [==============================] - 0s 7ms/step - loss: 0.3622 - accuracy: 1.0000 - val_loss: 0.3565 - val_accuracy: 1.0000\n",
      "Epoch 25/50\n",
      "16/16 [==============================] - 0s 7ms/step - loss: 0.3517 - accuracy: 1.0000 - val_loss: 0.3460 - val_accuracy: 1.0000\n",
      "Epoch 26/50\n",
      "16/16 [==============================] - 0s 7ms/step - loss: 0.3413 - accuracy: 1.0000 - val_loss: 0.3356 - val_accuracy: 1.0000\n",
      "Epoch 27/50\n",
      "16/16 [==============================] - 0s 7ms/step - loss: 0.3311 - accuracy: 1.0000 - val_loss: 0.3255 - val_accuracy: 1.0000\n",
      "Epoch 28/50\n",
      "16/16 [==============================] - 0s 6ms/step - loss: 0.3209 - accuracy: 1.0000 - val_loss: 0.3156 - val_accuracy: 1.0000\n",
      "Epoch 29/50\n",
      "16/16 [==============================] - 0s 7ms/step - loss: 0.3110 - accuracy: 1.0000 - val_loss: 0.3056 - val_accuracy: 1.0000\n",
      "Epoch 30/50\n",
      "16/16 [==============================] - 0s 7ms/step - loss: 0.3012 - accuracy: 1.0000 - val_loss: 0.2958 - val_accuracy: 1.0000\n",
      "Epoch 31/50\n",
      "16/16 [==============================] - 0s 7ms/step - loss: 0.2914 - accuracy: 1.0000 - val_loss: 0.2865 - val_accuracy: 1.0000\n",
      "Epoch 32/50\n",
      "16/16 [==============================] - 0s 6ms/step - loss: 0.2825 - accuracy: 1.0000 - val_loss: 0.2776 - val_accuracy: 1.0000\n",
      "Epoch 33/50\n",
      "16/16 [==============================] - 0s 6ms/step - loss: 0.2736 - accuracy: 1.0000 - val_loss: 0.2688 - val_accuracy: 1.0000\n",
      "Epoch 34/50\n",
      "16/16 [==============================] - 0s 6ms/step - loss: 0.2649 - accuracy: 1.0000 - val_loss: 0.2602 - val_accuracy: 1.0000\n",
      "Epoch 35/50\n",
      "16/16 [==============================] - 0s 7ms/step - loss: 0.2564 - accuracy: 1.0000 - val_loss: 0.2520 - val_accuracy: 1.0000\n",
      "Epoch 36/50\n",
      "16/16 [==============================] - 0s 8ms/step - loss: 0.2482 - accuracy: 1.0000 - val_loss: 0.2437 - val_accuracy: 1.0000\n",
      "Epoch 37/50\n",
      "16/16 [==============================] - 0s 6ms/step - loss: 0.2401 - accuracy: 1.0000 - val_loss: 0.2357 - val_accuracy: 1.0000\n",
      "Epoch 38/50\n",
      "16/16 [==============================] - 0s 6ms/step - loss: 0.2321 - accuracy: 1.0000 - val_loss: 0.2280 - val_accuracy: 1.0000\n",
      "Epoch 39/50\n",
      "16/16 [==============================] - 0s 7ms/step - loss: 0.2246 - accuracy: 1.0000 - val_loss: 0.2205 - val_accuracy: 1.0000\n",
      "Epoch 40/50\n",
      "16/16 [==============================] - 0s 7ms/step - loss: 0.2172 - accuracy: 1.0000 - val_loss: 0.2131 - val_accuracy: 1.0000\n",
      "Epoch 41/50\n",
      "16/16 [==============================] - 0s 6ms/step - loss: 0.2099 - accuracy: 1.0000 - val_loss: 0.2060 - val_accuracy: 1.0000\n",
      "Epoch 42/50\n",
      "16/16 [==============================] - 0s 7ms/step - loss: 0.2028 - accuracy: 1.0000 - val_loss: 0.1991 - val_accuracy: 1.0000\n",
      "Epoch 43/50\n",
      "16/16 [==============================] - 0s 7ms/step - loss: 0.1960 - accuracy: 1.0000 - val_loss: 0.1925 - val_accuracy: 1.0000\n",
      "Epoch 44/50\n",
      "16/16 [==============================] - 0s 6ms/step - loss: 0.1895 - accuracy: 1.0000 - val_loss: 0.1860 - val_accuracy: 1.0000\n",
      "Epoch 45/50\n",
      "16/16 [==============================] - 0s 7ms/step - loss: 0.1831 - accuracy: 1.0000 - val_loss: 0.1797 - val_accuracy: 1.0000\n",
      "Epoch 46/50\n",
      "16/16 [==============================] - 0s 7ms/step - loss: 0.1769 - accuracy: 1.0000 - val_loss: 0.1736 - val_accuracy: 1.0000\n",
      "Epoch 47/50\n",
      "16/16 [==============================] - 0s 7ms/step - loss: 0.1709 - accuracy: 1.0000 - val_loss: 0.1677 - val_accuracy: 1.0000\n",
      "Epoch 48/50\n",
      "16/16 [==============================] - 0s 7ms/step - loss: 0.1651 - accuracy: 1.0000 - val_loss: 0.1621 - val_accuracy: 1.0000\n",
      "Epoch 49/50\n",
      "16/16 [==============================] - 0s 6ms/step - loss: 0.1595 - accuracy: 1.0000 - val_loss: 0.1567 - val_accuracy: 1.0000\n",
      "Epoch 50/50\n",
      "16/16 [==============================] - 0s 7ms/step - loss: 0.1543 - accuracy: 1.0000 - val_loss: 0.1515 - val_accuracy: 1.0000\n"
     ]
    }
   ],
   "source": [
    "history = model.fit(X_train, y_train, validation_data=(X_val,y_val), batch_size=64, epochs=50, verbose=1, shuffle=True)"
   ]
  },
  {
   "cell_type": "code",
   "execution_count": 31,
   "id": "a01ad003-a3f8-4bfc-bcd8-1a9a6111e4c5",
   "metadata": {},
   "outputs": [],
   "source": [
    "def plot_metrics(history):\n",
    "    fig, axes = plt.subplots(nrows=1, ncols=2, figsize=(16, 4))\n",
    "    metrics = [\"accuracy\", \"loss\"]\n",
    "    \n",
    "    for ax, metric in zip(axes, metrics):\n",
    "        ax.plot(history.history[metric], linestyle='-.')\n",
    "        if (val_metric := 'val_' + metric) in history.history:\n",
    "            ax.plot(history.history[val_metric])\n",
    "        ax.set_title(f'model {metric}')\n",
    "        ax.set_ylabel(metric)\n",
    "        ax.set_xlabel('epoch')\n",
    "        ax.legend(['train', 'val'], loc='lower right')\n",
    "    plt.show()"
   ]
  },
  {
   "cell_type": "code",
   "execution_count": 32,
   "id": "65c14a50-aeea-4501-96fb-86c136e7078f",
   "metadata": {},
   "outputs": [
    {
     "data": {
      "image/png": "[encoded data removed]",
      "text/plain": [
       "<Figure size 1600x400 with 2 Axes>"
      ]
     },
     "metadata": {},
     "output_type": "display_data"
    }
   ],
   "source": [
    "plot_metrics(history)"
   ]
  },
  {
   "cell_type": "markdown",
   "id": "ef744b5e-4c11-4013-a57f-589b3e6e2618",
   "metadata": {},
   "source": [
    "### Visualize the learned kernel and experiment with the code\n",
    "\n",
    "You see that the CNN performs very good at this task (100% accuracy).   \n",
    "We can check which pattern is recognized by the learned kernel and see if you think that this is helpful to distinguish between images with horizontal and vertical edges. "
   ]
  },
  {
   "cell_type": "code",
   "execution_count": 36,
   "id": "6fca2d31-e2db-4ac7-b2d0-9f2d35f6fec1",
   "metadata": {},
   "outputs": [
    {
     "name": "stdout",
     "output_type": "stream",
     "text": [
      "(5, 5, 1, 1)\n"
     ]
    },
    {
     "data": {
      "text/plain": [
       "<matplotlib.image.AxesImage at 0x20e4da853d0>"
      ]
     },
     "execution_count": 36,
     "metadata": {},
     "output_type": "execute_result"
    },
    {
     "data": {
      "image/png": "[encoded data removed]",
      "text/plain": [
       "<Figure size 640x480 with 1 Axes>"
      ]
     },
     "metadata": {},
     "output_type": "display_data"
    }
   ],
   "source": [
    "conv_filter = model.get_weights()[0]\n",
    "print(conv_filter.shape)\n",
    "conv_filter = np.squeeze(conv_filter, axis=2)\n",
    "plt.imshow(conv_filter[:,:,0], cmap=\"gray\")"
   ]
  },
  {
   "cell_type": "code",
   "execution_count": null,
   "id": "ae49193c-0c0b-42d0-939c-135fa2562942",
   "metadata": {},
   "outputs": [],
   "source": []
  },
  {
   "cell_type": "code",
   "execution_count": null,
   "id": "f382daf7-5a60-4b39-b46c-1636f6aeee0b",
   "metadata": {},
   "outputs": [],
   "source": []
  }
 ],
 "metadata": {
  "kernelspec": {
   "display_name": "Python 3 (ipykernel)",
   "language": "python",
   "name": "python3"
  },
  "language_info": {
   "codemirror_mode": {
    "name": "ipython",
    "version": 3
   },
   "file_extension": ".py",
   "mimetype": "text/x-python",
   "name": "python",
   "nbconvert_exporter": "python",
   "pygments_lexer": "ipython3",
   "version": "3.8.13"
  }
 },
 "nbformat": 4,
 "nbformat_minor": 5
}
