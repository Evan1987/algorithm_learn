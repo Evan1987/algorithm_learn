{
 "cells": [
  {
   "cell_type": "code",
   "execution_count": 4,
   "id": "d9efe8b7-c7ca-425d-acc0-72332ceb0b1a",
   "metadata": {},
   "outputs": [],
   "source": [
    "import os\n",
    "import tensorflow as tf\n",
    "import numpy as np\n",
    "import matplotlib.pyplot as plt\n",
    "from typing import *\n",
    "\n",
    "path = os.path.join(os.getcwd(), \"probability-deep-learning\")\n",
    "data_path = os.path.join(path, \"data\")"
   ]
  },
  {
   "cell_type": "code",
   "execution_count": 7,
   "id": "609604a4-9f86-428e-940a-de844d846d5d",
   "metadata": {},
   "outputs": [
    {
     "name": "stdout",
     "output_type": "stream",
     "text": [
      "(1372, 5)\n"
     ]
    }
   ],
   "source": [
    "data = np.loadtxt(os.path.join(data_path, \"data_banknote_authentication.txt\"), delimiter=\",\")\n",
    "print(data.shape)"
   ]
  },
  {
   "cell_type": "markdown",
   "id": "bdfbaf61-390d-44a9-9de7-9c7bfc932d84",
   "metadata": {},
   "source": [
    "Let's extract the two featues   \n",
    "x1: skewness of wavelet transformed image.  \n",
    "x2: entropy of wavelet transformed image. "
   ]
  },
  {
   "cell_type": "code",
   "execution_count": null,
   "id": "9b32e50a-cd89-48d4-b171-f8091fbb689b",
   "metadata": {},
   "outputs": [],
   "source": []
  },
  {
   "cell_type": "code",
   "execution_count": null,
   "id": "c62e898f-c82b-4593-9e46-a9798b7dc845",
   "metadata": {},
   "outputs": [],
   "source": []
  },
  {
   "cell_type": "code",
   "execution_count": null,
   "id": "e6ee5c92-fafc-4004-bbb2-55653541b041",
   "metadata": {},
   "outputs": [],
   "source": []
  },
  {
   "cell_type": "code",
   "execution_count": null,
   "id": "76eb54a7-ba10-4721-b593-266d87997c1b",
   "metadata": {},
   "outputs": [],
   "source": []
  }
 ],
 "metadata": {
  "kernelspec": {
   "display_name": "Python 3 (ipykernel)",
   "language": "python",
   "name": "python3"
  },
  "language_info": {
   "codemirror_mode": {
    "name": "ipython",
    "version": 3
   },
   "file_extension": ".py",
   "mimetype": "text/x-python",
   "name": "python",
   "nbconvert_exporter": "python",
   "pygments_lexer": "ipython3",
   "version": "3.8.13"
  }
 },
 "nbformat": 4,
 "nbformat_minor": 5
}
