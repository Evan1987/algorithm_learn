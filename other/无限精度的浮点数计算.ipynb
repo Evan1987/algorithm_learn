{
 "cells": [
  {
   "cell_type": "code",
   "execution_count": 1,
   "id": "d5633de6-331b-423c-b963-71c27390ce9f",
   "metadata": {},
   "outputs": [],
   "source": [
    "# 来自于九坤一面，要求实现无限精度的浮点数加减法，输入是字符串形式"
   ]
  },
  {
   "cell_type": "code",
   "execution_count": 16,
   "id": "3c65951d-ae1a-4528-84db-4e3e7d3b4821",
   "metadata": {},
   "outputs": [],
   "source": [
    "class UltraDecimal(object):\n",
    "    \n",
    "    def __init__(self, x: int, n: int):\n",
    "        \"\"\"\n",
    "        如果能保留精度的话，x / 10^n就是原来浮点数\n",
    "        @param x: 浮点数去掉小数点后的整数，python的int是无限位数的\n",
    "        @param n: 记录浮点数小数点所在位数\n",
    "        \"\"\"\n",
    "        self.x = x\n",
    "        self.n = n\n",
    "    \n",
    "    @classmethod\n",
    "    def from_string(cls, s: str):\n",
    "        a, *b = s.split(\".\")\n",
    "        n = 0\n",
    "        # 去掉整数部分左侧无用的0\n",
    "        a = a.lstrip(\"0\")\n",
    "        if b:\n",
    "            # 去掉小数部分右侧无用的0\n",
    "            b = b[0].rstrip(\"0\")\n",
    "            n = len(b)\n",
    "            x =  int(a + b)\n",
    "        else:\n",
    "            n = 0\n",
    "            x = int(a)\n",
    "        return cls(x, n)\n",
    "    \n",
    "    def __repr__(self):\n",
    "        return f\"UD({str(self)})\"\n",
    "    \n",
    "    def __str__(self):\n",
    "        # 还原回字符串形式\n",
    "        s = str(self.x)\n",
    "        length = len(s)\n",
    "        return s[:(length - self.n)] + \".\" + s[(length - self.n):]\n",
    "    \n",
    "    def __add__(self, other: \"UltraDecimal\"):\n",
    "        n = max(self.n, other.n)\n",
    "        a = self.x * (10 ** (n - self.n))\n",
    "        b = other.x * (10 ** (n - other.n))\n",
    "        x = a + b\n",
    "        return type(self)(x, n)\n",
    "    \n",
    "    def __sub__(self, other: \"UltraDecimal\"):\n",
    "        other.x *= -1\n",
    "        return self + other"
   ]
  },
  {
   "cell_type": "code",
   "execution_count": 17,
   "id": "93e28ac3-7e4f-4996-a676-cbd5f53d5149",
   "metadata": {},
   "outputs": [
    {
     "data": {
      "text/plain": [
       "UD(110.997)"
      ]
     },
     "execution_count": 17,
     "metadata": {},
     "output_type": "execute_result"
    }
   ],
   "source": [
    "a = UltraDecimal.from_string(\"-10.987\")\n",
    "b = UltraDecimal.from_string(\"100.01\")\n",
    "b - a"
   ]
  },
  {
   "cell_type": "code",
   "execution_count": null,
   "id": "1b40ff95-23dc-49e3-98d0-05c67fc6d3ff",
   "metadata": {},
   "outputs": [],
   "source": []
  }
 ],
 "metadata": {
  "kernelspec": {
   "display_name": "Python 3 (ipykernel)",
   "language": "python",
   "name": "python3"
  },
  "language_info": {
   "codemirror_mode": {
    "name": "ipython",
    "version": 3
   },
   "file_extension": ".py",
   "mimetype": "text/x-python",
   "name": "python",
   "nbconvert_exporter": "python",
   "pygments_lexer": "ipython3",
   "version": "3.8.15"
  }
 },
 "nbformat": 4,
 "nbformat_minor": 5
}
